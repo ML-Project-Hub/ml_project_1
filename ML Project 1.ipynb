{
 "cells": [
  {
   "cell_type": "markdown",
   "metadata": {
    "collapsed": true
   },
   "source": [
    "# Initialization"
   ]
  },
  {
   "cell_type": "code",
   "execution_count": 30,
   "metadata": {},
   "outputs": [
    {
     "name": "stdout",
     "output_type": "stream",
     "text": [
      "Group members\n",
      "\n",
      "UBITName = suniluma\n",
      "personNumber = 50249002\n",
      "\n",
      "UBITName = a45\n",
      "personNumber = 50244979\n",
      "\n"
     ]
    }
   ],
   "source": [
    "import pandas as pd\n",
    "import numpy\n",
    "import scipy\n",
    "import scipy.stats as sst\n",
    "\n",
    "%matplotlib inline\n",
    "\n",
    "EXCEL_LOCATION = \"./university data.xlsx\"\n",
    "UBITNAME1 = \"suniluma\"\n",
    "PERSON_NUMBER1 = \"50249002\"\n",
    "UBITNAME2 = \"a45\"\n",
    "PERSON_NUMBER2 = \"50244979\"\n",
    "\n",
    "df = pd.read_excel(EXCEL_LOCATION)\n",
    "df.columns = [\"Rank\",\n",
    "              \"Name\",\n",
    "              \"CS_Score\",\n",
    "              \"Research_Overhead\",\n",
    "              \"Base_Pay\",\n",
    "              \"Tuition_Out_State\",\n",
    "              \"GradStudents\",\n",
    "              \"TTFaculty\",\n",
    "              \"Lecturers\",\n",
    "              \"G_TTRatio\",\n",
    "              \"G_TTLRatio\"]\n",
    "\n",
    "print(\"Group members\\n\")\n",
    "print(\"UBITName = {}\".format(UBITNAME1))\n",
    "print(\"personNumber = {}\\n\".format(PERSON_NUMBER1))\n",
    "print(\"UBITName = {}\".format(UBITNAME2))\n",
    "print(\"personNumber = {}\\n\".format(PERSON_NUMBER2))"
   ]
  },
  {
   "cell_type": "markdown",
   "metadata": {},
   "source": [
    "# Task 1"
   ]
  },
  {
   "cell_type": "code",
   "execution_count": 31,
   "metadata": {},
   "outputs": [
    {
     "name": "stdout",
     "output_type": "stream",
     "text": [
      "mu1 = 3.2142857142857144\n",
      "mu2 = 53.385714285714286\n",
      "mu3 = 469178.8163265306\n",
      "mu4 = 29711.95918367347\n",
      "\n",
      "var1 = 0.44816326530612227\n",
      "var2 = 12.588163265306124\n",
      "var3 = 13900134681.700962\n",
      "var4 = 30727538.73302791\n",
      "\n",
      "sigma1 = 0.6694499722205702\n",
      "sigma2 = 3.5479801669831983\n",
      "sigma3 = 117898.83240177132\n",
      "sigma4 = 5543.24261899368\n",
      "\n"
     ]
    }
   ],
   "source": [
    "mu1 = numpy.mean(df[\"CS_Score\"])\n",
    "mu2 = numpy.mean(df[\"Research_Overhead\"])\n",
    "mu3 = numpy.mean(df[\"Base_Pay\"])\n",
    "mu4 = numpy.mean(df[\"Tuition_Out_State\"])\n",
    "\n",
    "var1 = numpy.var(df[\"CS_Score\"])\n",
    "var2 = numpy.var(df[\"Research_Overhead\"])\n",
    "var3 = numpy.var(df[\"Base_Pay\"])\n",
    "var4 = numpy.var(df[\"Tuition_Out_State\"])\n",
    "\n",
    "sigma1 = numpy.std(df[\"CS_Score\"])\n",
    "sigma2 = numpy.std(df[\"Research_Overhead\"])\n",
    "sigma3 = numpy.std(df[\"Base_Pay\"])\n",
    "sigma4 = numpy.std(df[\"Tuition_Out_State\"])\n",
    "\n",
    "print(\"mu1 = {}\".format(mu1))\n",
    "print(\"mu2 = {}\".format(mu2))\n",
    "print(\"mu3 = {}\".format(mu3))\n",
    "print(\"mu4 = {}\\n\".format(mu4))\n",
    "\n",
    "print(\"var1 = {}\".format(var1))\n",
    "print(\"var2 = {}\".format(var2))\n",
    "print(\"var3 = {}\".format(var3))\n",
    "print(\"var4 = {}\\n\".format(var4))\n",
    "\n",
    "print(\"sigma1 = {}\".format(sigma1))\n",
    "print(\"sigma2 = {}\".format(sigma2))\n",
    "print(\"sigma3 = {}\".format(sigma3))\n",
    "print(\"sigma4 = {}\\n\".format(sigma4))"
   ]
  },
  {
   "cell_type": "markdown",
   "metadata": {},
   "source": [
    "# Task 2"
   ]
  },
  {
   "cell_type": "code",
   "execution_count": 32,
   "metadata": {
    "collapsed": true
   },
   "outputs": [],
   "source": [
    "def plotter(df, column1, column2):\n",
    "    return df.plot.scatter(x=column1, y=column2, style='o')\n",
    "\n",
    "def covariance_matrix(df):\n",
    "    array_like_variables = df.as_matrix()[:-1].T\n",
    "    return numpy.cov(array_like_variables)\n",
    "\n",
    "def correlation_matrix(df):\n",
    "    array_like_variables = df.as_matrix()[:-1].T\n",
    "    return numpy.corrcoef(array_like_variables)"
   ]
  },
  {
   "cell_type": "code",
   "execution_count": 33,
   "metadata": {},
   "outputs": [
    {
     "ename": "SyntaxError",
     "evalue": "Missing parentheses in call to 'print' (<ipython-input-33-db08f36d455e>, line 1)",
     "output_type": "error",
     "traceback": [
      "\u001b[0;36m  File \u001b[0;32m\"<ipython-input-33-db08f36d455e>\"\u001b[0;36m, line \u001b[0;32m1\u001b[0m\n\u001b[0;31m    print \"covarianceMat = \"\u001b[0m\n\u001b[0m                           ^\u001b[0m\n\u001b[0;31mSyntaxError\u001b[0m\u001b[0;31m:\u001b[0m Missing parentheses in call to 'print'\n"
     ]
    }
   ],
   "source": [
    "print \"covarianceMat = \" \n",
    "print covariance_matrix(df[[\"CS_Score\",\n",
    "              \"Research_Overhead\",\n",
    "              \"Base_Pay\",\n",
    "              \"Tuition_Out_State\",]])\n",
    "print \"\"\n",
    "print \"correlationMat = \" \n",
    "print correlation_matrix(df[[\"CS_Score\",\n",
    "              \"Research_Overhead\",\n",
    "              \"Base_Pay\",\n",
    "              \"Tuition_Out_State\",]])"
   ]
  },
  {
   "cell_type": "code",
   "execution_count": null,
   "metadata": {},
   "outputs": [],
   "source": [
    "plotter(df,'CS_Score',\"Research_Overhead\")"
   ]
  },
  {
   "cell_type": "code",
   "execution_count": null,
   "metadata": {
    "scrolled": true
   },
   "outputs": [],
   "source": [
    "plotter(df,'CS_Score',\"Base_Pay\")"
   ]
  },
  {
   "cell_type": "code",
   "execution_count": null,
   "metadata": {},
   "outputs": [],
   "source": [
    "plotter(df,'CS_Score',\"Tuition_Out_State\")"
   ]
  },
  {
   "cell_type": "code",
   "execution_count": null,
   "metadata": {},
   "outputs": [],
   "source": [
    "plotter(df,'Base_Pay',\"Research_Overhead\")"
   ]
  },
  {
   "cell_type": "code",
   "execution_count": null,
   "metadata": {},
   "outputs": [],
   "source": [
    "plotter(df,'Base_Pay',\"Tuition_Out_State\")"
   ]
  },
  {
   "cell_type": "code",
   "execution_count": null,
   "metadata": {},
   "outputs": [],
   "source": [
    "plotter(df,'Tuition_Out_State',\"Research_Overhead\")"
   ]
  },
  {
   "cell_type": "markdown",
   "metadata": {
    "collapsed": true
   },
   "source": [
    "# Task 3"
   ]
  },
  {
   "cell_type": "code",
   "execution_count": null,
   "metadata": {},
   "outputs": [],
   "source": [
    "logLikelihood = sst.norm(0,1).pdf(list(df[\"CS_Score\"]))\n",
    "print logLikelihood"
   ]
  }
 ],
 "metadata": {
  "kernelspec": {
   "display_name": "Python 3",
   "language": "python",
   "name": "python3"
  },
  "language_info": {
   "codemirror_mode": {
    "name": "ipython",
    "version": 3
   },
   "file_extension": ".py",
   "mimetype": "text/x-python",
   "name": "python",
   "nbconvert_exporter": "python",
   "pygments_lexer": "ipython3",
   "version": "3.6.1"
  }
 },
 "nbformat": 4,
 "nbformat_minor": 2
}

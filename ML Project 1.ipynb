{
 "cells": [
  {
   "cell_type": "markdown",
   "metadata": {
    "collapsed": true
   },
   "source": [
    "# Initialization"
   ]
  },
  {
   "cell_type": "code",
   "execution_count": 22,
   "metadata": {},
   "outputs": [
    {
     "name": "stdout",
     "output_type": "stream",
     "text": [
      "Group members\n",
      "\n",
      "UBITName = suniluma\n",
      "personNumber = 50249002\n",
      "\n",
      "UBITName = a45\n",
      "personNumber = 50244979\n",
      "\n",
      "UBITName = prajnaga\n",
      "personNumber = 50244304\n",
      "\n"
     ]
    }
   ],
   "source": [
    "import pandas as pd\n",
    "import scipy.stats as sst\n",
    "import scipy\n",
    "import numpy\n",
    "import math\n",
    "%matplotlib inline\n",
    "\n",
    "EXCEL_LOCATION = \"./university data.xlsx\"\n",
    "UBITNAME1 = \"suniluma\"\n",
    "PERSON_NUMBER1 = \"50249002\"\n",
    "UBITNAME2 = \"a45\"\n",
    "PERSON_NUMBER2 = \"50244979\"\n",
    "UBITNAME3 =\"prajnaga\"\n",
    "PERSON_NUMBER3 = \"50244304\"\n",
    "\n",
    "df = pd.read_excel(EXCEL_LOCATION)\n",
    "df.columns = [\"Rank\",\n",
    "              \"Name\",\n",
    "              \"CS_Score\",\n",
    "              \"Research_Overhead\",\n",
    "              \"Base_Pay\",\n",
    "              \"Tuition_Out_State\",\n",
    "              \"GradStudents\",\n",
    "              \"TTFaculty\",\n",
    "              \"Lecturers\",\n",
    "              \"G_TTRatio\",\n",
    "              \"G_TTLRatio\"]\n",
    "\n",
    "print(\"Group members\\n\")\n",
    "print(\"UBITName = {}\".format(UBITNAME1))\n",
    "print(\"personNumber = {}\\n\".format(PERSON_NUMBER1))\n",
    "print(\"UBITName = {}\".format(UBITNAME2))\n",
    "print(\"personNumber = {}\\n\".format(PERSON_NUMBER2))\n",
    "print(\"UBITName = {}\".format(UBITNAME3))\n",
    "print(\"personNumber = {}\\n\".format(PERSON_NUMBER3))"
   ]
  },
  {
   "cell_type": "markdown",
   "metadata": {},
   "source": [
    "# Task 1"
   ]
  },
  {
   "cell_type": "code",
   "execution_count": 23,
   "metadata": {
    "collapsed": true
   },
   "outputs": [],
   "source": [
    "def mean(df,column):\n",
    "    return numpy.mean(df[column])\n",
    "\n",
    "def variance(df,column):\n",
    "    return numpy.var(df[column])\n",
    "    \n",
    "def stddev(df,column):\n",
    "    return numpy.std(df[column])"
   ]
  },
  {
   "cell_type": "code",
   "execution_count": 24,
   "metadata": {},
   "outputs": [
    {
     "name": "stdout",
     "output_type": "stream",
     "text": [
      "mu1 = 3.2142857142857144\n",
      "mu2 = 53.385714285714286\n",
      "mu3 = 469178.8163265306\n",
      "mu4 = 29711.95918367347\n",
      "\n",
      "var1 = 0.44816326530612227\n",
      "var2 = 12.588163265306124\n",
      "var3 = 13900134681.700962\n",
      "var4 = 30727538.73302791\n",
      "\n",
      "sigma1 = 0.6694499722205702\n",
      "sigma2 = 3.5479801669831983\n",
      "sigma3 = 117898.83240177132\n",
      "sigma4 = 5543.24261899368\n"
     ]
    }
   ],
   "source": [
    "mu1 = mean(df,\"CS_Score\")\n",
    "mu2 = mean(df,\"Research_Overhead\")\n",
    "mu3 = mean(df,\"Base_Pay\")\n",
    "mu4 = mean(df,\"Tuition_Out_State\")\n",
    "print(\"mu1 = \" + str(mu1))\n",
    "print(\"mu2 = \" + str(mu2))\n",
    "print(\"mu3 = \" + str(mu3))\n",
    "print(\"mu4 = \" + str(mu4))\n",
    "print(\"\")\n",
    "var1 = variance(df,\"CS_Score\")\n",
    "var2 = variance(df,\"Research_Overhead\")\n",
    "var3 = variance(df,\"Base_Pay\")\n",
    "var4 = variance(df,\"Tuition_Out_State\")\n",
    "print(\"var1 = \" + str(var1))\n",
    "print(\"var2 = \" + str(var2))\n",
    "print(\"var3 = \" + str(var3))\n",
    "print(\"var4 = \" + str(var4))\n",
    "print(\"\")\n",
    "sigma1 = stddev(df,\"CS_Score\")\n",
    "sigma2 = stddev(df,\"Research_Overhead\")\n",
    "sigma3 = stddev(df,\"Base_Pay\")\n",
    "sigma4 = stddev(df,\"Tuition_Out_State\")\n",
    "print(\"sigma1 = \" + str(sigma1))\n",
    "print(\"sigma2 = \" + str(sigma2))\n",
    "print(\"sigma3 = \" + str(sigma3))\n",
    "print(\"sigma4 = \" + str(sigma4))"
   ]
  },
  {
   "cell_type": "markdown",
   "metadata": {},
   "source": [
    "# Task 2"
   ]
  },
  {
   "cell_type": "code",
   "execution_count": 25,
   "metadata": {
    "collapsed": true
   },
   "outputs": [],
   "source": [
    "def plotter(df, column1, column2):\n",
    "    return df.plot.scatter(x=column1, y=column2, style='o')\n",
    "\n",
    "def covariance_matrix(df):\n",
    "    array_like_variables = df.as_matrix().T\n",
    "    return numpy.cov(array_like_variables)\n",
    "\n",
    "def correlation_matrix(df):\n",
    "    array_like_variables = df.as_matrix().T\n",
    "    return numpy.corrcoef(array_like_variables)"
   ]
  },
  {
   "cell_type": "code",
   "execution_count": 26,
   "metadata": {},
   "outputs": [
    {
     "name": "stdout",
     "output_type": "stream",
     "text": [
      "covarianceMat = \n",
      "[[  4.57500000e-01   1.10562500e+00   3.87978185e+03   1.05847976e+03]\n",
      " [  1.10562500e+00   1.28504167e+01   7.02793765e+04   2.80578899e+03]\n",
      " [  3.87978185e+03   7.02793765e+04   1.41897208e+10  -1.63685641e+08]\n",
      " [  1.05847976e+03   2.80578899e+03  -1.63685641e+08   3.13676958e+07]]\n",
      "\n",
      "correlationMat = \n",
      "[[ 1.          0.4559883   0.04815316  0.27941242]\n",
      " [ 0.4559883   1.          0.16458201  0.13975105]\n",
      " [ 0.04815316  0.16458201  1.         -0.2453479 ]\n",
      " [ 0.27941242  0.13975105 -0.2453479   1.        ]]\n"
     ]
    }
   ],
   "source": [
    "covarianceMat = covariance_matrix(df[[\"CS_Score\",\n",
    "              \"Research_Overhead\",\n",
    "              \"Base_Pay\",\n",
    "              \"Tuition_Out_State\",]])\n",
    "print(\"covarianceMat = \")\n",
    "print(covarianceMat)\n",
    "print(\"\")\n",
    "correlationMat = correlation_matrix(df[[\"CS_Score\",\n",
    "              \"Research_Overhead\",\n",
    "              \"Base_Pay\",\n",
    "              \"Tuition_Out_State\",]])\n",
    "print(\"correlationMat = \")\n",
    "print(correlationMat)"
   ]
  },
  {
   "cell_type": "code",
   "execution_count": 27,
   "metadata": {},
   "outputs": [
    {
     "data": {
      "text/plain": [
       "<matplotlib.axes._subplots.AxesSubplot at 0x7f1e375e38d0>"
      ]
     },
     "execution_count": 27,
     "metadata": {},
     "output_type": "execute_result"
    },
    {
     "data": {
      "image/png": "[encoded data removed]",
      "text/plain": [
       "<matplotlib.figure.Figure at 0x7f1e37682c50>"
      ]
     },
     "metadata": {},
     "output_type": "display_data"
    }
   ],
   "source": [
    "plotter(df,'CS_Score',\"Research_Overhead\")"
   ]
  },
  {
   "cell_type": "code",
   "execution_count": 28,
   "metadata": {},
   "outputs": [
    {
     "data": {
      "text/plain": [
       "<matplotlib.axes._subplots.AxesSubplot at 0x7f1e3766ebe0>"
      ]
     },
     "execution_count": 28,
     "metadata": {},
     "output_type": "execute_result"
    },
    {
     "data": {
      "image/png": "[encoded data removed]",
      "text/plain": [
       "<matplotlib.figure.Figure at 0x7f1e374c9cf8>"
      ]
     },
     "metadata": {},
     "output_type": "display_data"
    }
   ],
   "source": [
    "plotter(df,'CS_Score',\"Base_Pay\")"
   ]
  },
  {
   "cell_type": "code",
   "execution_count": 29,
   "metadata": {},
   "outputs": [
    {
     "data": {
      "text/plain": [
       "<matplotlib.axes._subplots.AxesSubplot at 0x7f1e3744b908>"
      ]
     },
     "execution_count": 29,
     "metadata": {},
     "output_type": "execute_result"
    },
    {
     "data": {
      "image/png": "[encoded data removed]",
      "text/plain": [
       "<matplotlib.figure.Figure at 0x7f1e3745cc50>"
      ]
     },
     "metadata": {},
     "output_type": "display_data"
    }
   ],
   "source": [
    "plotter(df,'CS_Score',\"Tuition_Out_State\")"
   ]
  },
  {
   "cell_type": "code",
   "execution_count": 30,
   "metadata": {},
   "outputs": [
    {
     "data": {
      "text/plain": [
       "<matplotlib.axes._subplots.AxesSubplot at 0x7f1e37409dd8>"
      ]
     },
     "execution_count": 30,
     "metadata": {},
     "output_type": "execute_result"
    },
    {
     "data": {
      "image/png": "[encoded data removed]",
      "text/plain": [
       "<matplotlib.figure.Figure at 0x7f1e373e47b8>"
      ]
     },
     "metadata": {},
     "output_type": "display_data"
    }
   ],
   "source": [
    "plotter(df,'Base_Pay',\"Research_Overhead\")"
   ]
  },
  {
   "cell_type": "code",
   "execution_count": 31,
   "metadata": {},
   "outputs": [
    {
     "data": {
      "text/plain": [
       "<matplotlib.axes._subplots.AxesSubplot at 0x7f1e37332ef0>"
      ]
     },
     "execution_count": 31,
     "metadata": {},
     "output_type": "execute_result"
    },
    {
     "data": {
      "image/png": "[encoded data removed]",
      "text/plain": [
       "<matplotlib.figure.Figure at 0x7f1e37301ef0>"
      ]
     },
     "metadata": {},
     "output_type": "display_data"
    }
   ],
   "source": [
    "plotter(df,'Base_Pay',\"Tuition_Out_State\")"
   ]
  },
  {
   "cell_type": "code",
   "execution_count": 32,
   "metadata": {},
   "outputs": [
    {
     "data": {
      "text/plain": [
       "<matplotlib.axes._subplots.AxesSubplot at 0x7f1e372c0668>"
      ]
     },
     "execution_count": 32,
     "metadata": {},
     "output_type": "execute_result"
    },
    {
     "data": {
      "image/png": "[encoded data removed]",
      "text/plain": [
       "<matplotlib.figure.Figure at 0x7f1e372ccef0>"
      ]
     },
     "metadata": {},
     "output_type": "display_data"
    }
   ],
   "source": [
    "plotter(df,'Research_Overhead',\"Tuition_Out_State\")"
   ]
  },
  {
   "cell_type": "markdown",
   "metadata": {
    "collapsed": true
   },
   "source": [
    "# Task 3"
   ]
  },
  {
   "cell_type": "code",
   "execution_count": 33,
   "metadata": {
    "collapsed": true
   },
   "outputs": [],
   "source": [
    "def univariate_pdf(df,column):\n",
    "    pi = numpy.pi\n",
    "    sigma = stddev(df,column)\n",
    "    mu = mean(df,column)\n",
    "    e = numpy.e\n",
    "    root2pi = numpy.sqrt(2*pi)\n",
    "    return [1/(root2pi*sigma)*e**(-1/2.0*((i-mu)/sigma)**2) for i in df[column]]\n",
    "\n",
    "def multivariate_pdf(df,no_of_columns,formula=True):\n",
    "    if formula == True:\n",
    "        from numpy import matrix\n",
    "        covarianceMat = matrix(covarianceMat)\n",
    "        inverse_covarianceMat = covarianceMat**-1\n",
    "        determinant_covarianceMat = numpy.linalg.det(covarianceMat)\n",
    "        mu = matrix([mu1,mu2,mu3,mu4]).T\n",
    "        multivariate_list = [matrix(list(df.iloc[i][2:6])) for i in range(49)]\n",
    "    else:\n",
    "        from scipy.stats import multivariate_normal\n",
    "        multivariate_pdf = multivariate_normal(mean=[mu1,mu2,mu3,mu4], cov=covarianceMat, allow_singular=True)\n",
    "        return sum([numpy.log(multivariate_pdf.pdf(list(df.iloc[i])[2:6])) for i in range(49)])\n",
    "    "
   ]
  },
  {
   "cell_type": "code",
   "execution_count": 34,
   "metadata": {},
   "outputs": [
    {
     "name": "stdout",
     "output_type": "stream",
     "text": [
      "logLikelihood = -1315.09879256\n"
     ]
    }
   ],
   "source": [
    "pdf1 = univariate_pdf(df,\"CS_Score\")\n",
    "pdf2 = univariate_pdf(df,\"Research_Overhead\")\n",
    "pdf3 = univariate_pdf(df,\"Base_Pay\")\n",
    "pdf4 = univariate_pdf(df,\"Tuition_Out_State\")\n",
    "\n",
    "pdf_univariate = [pdf1[i]*pdf2[i]*pdf3[i]*pdf4[i] for i in range(49)]\n",
    "independent_log_likelihood = sum(numpy.log(pdf_univariate))\n",
    "print(\"logLikelihood = \" + str(independent_log_likelihood))"
   ]
  },
  {
   "cell_type": "code",
   "execution_count": 35,
   "metadata": {
    "collapsed": true
   },
   "outputs": [],
   "source": [
    "from scipy.stats import multivariate_normal\n",
    "multivariate_pdf = multivariate_normal(mean=[mu1,mu2,mu3,mu4], cov=covarianceMat, allow_singular=True)\n",
    "multivariate_log_likelihood = sum([numpy.log(multivariate_pdf.pdf(list(df.iloc[i])[2:6])) for i in range(49)])"
   ]
  },
  {
   "cell_type": "code",
   "execution_count": 36,
   "metadata": {},
   "outputs": [
    {
     "name": "stdout",
     "output_type": "stream",
     "text": [
      "MultivariatelogLikelihood = -1262.32720006\n"
     ]
    }
   ],
   "source": [
    "print(\"MultivariatelogLikelihood = \" + str(multivariate_log_likelihood))"
   ]
  },
  {
   "cell_type": "code",
   "execution_count": 37,
   "metadata": {
    "collapsed": true
   },
   "outputs": [],
   "source": [
    "from numpy import matrix\n",
    "covarianceMat = matrix(covarianceMat)\n",
    "inverse_covarianceMat = covarianceMat**-1\n",
    "determinant_covarianceMat = numpy.linalg.det(covarianceMat)\n",
    "mu = matrix([mu1,mu2,mu3,mu4]).T\n",
    "multivariate_list = [matrix(list(df.iloc[i][2:6])) for i in range(49)]"
   ]
  },
  {
   "cell_type": "code",
   "execution_count": 38,
   "metadata": {},
   "outputs": [
    {
     "name": "stdout",
     "output_type": "stream",
     "text": [
      "-1304.77824581\n"
     ]
    }
   ],
   "source": [
    "summ = 0\n",
    "for i in range(49):\n",
    "    x = matrix(multivariate_list[i].tolist()[0]).T\n",
    "    summ += numpy.log(math.e**(-1/2.0*((x-mu).T*inverse_covarianceMat*(x-mu)).tolist()[0][0])*(1/((math.pi*2)**2*math.sqrt(determinant_covarianceMat))))\n",
    "\n",
    "print(summ)"
   ]
  }
 ],
 "metadata": {
  "kernelspec": {
   "display_name": "Python 3",
   "language": "python",
   "name": "python3"
  },
  "language_info": {
   "codemirror_mode": {
    "name": "ipython",
    "version": 3
   },
   "file_extension": ".py",
   "mimetype": "text/x-python",
   "name": "python",
   "nbconvert_exporter": "python",
   "pygments_lexer": "ipython3",
   "version": "3.6.1"
  }
 },
 "nbformat": 4,
 "nbformat_minor": 2
}

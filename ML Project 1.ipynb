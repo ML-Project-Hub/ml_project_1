{
 "cells": [
  {
   "cell_type": "markdown",
   "metadata": {
    "collapsed": true
   },
   "source": [
    "# Initialization"
   ]
  },
  {
   "cell_type": "code",
   "execution_count": 22,
   "metadata": {},
   "outputs": [
    {
     "name": "stdout",
     "output_type": "stream",
     "text": [
      "UBitName = suniluma\n",
      "personNumber = 50249002\n"
     ]
    }
   ],
   "source": [
    "import pandas as pd\n",
    "import scipy.stats as sst\n",
    "import scipy\n",
    "import numpy\n",
    "%matplotlib inline\n",
    "\n",
    "EXCEL_LOCATION = \"University data.xlsx\"\n",
    "UBITNAME = \"suniluma\"\n",
    "PERSON_NUMBER = \"50249002\"\n",
    "\n",
    "df = pd.read_excel(EXCEL_LOCATION)\n",
    "df = df.replace(\"n\",\"NaN\")[:-1]\n",
    "df.columns = [\"Rank\",\n",
    "              \"Name\",\n",
    "              \"CS_Score\",\n",
    "              \"Research_Overhead\",\n",
    "              \"Base_Pay\",\n",
    "              \"Tuition_Out_State\",\n",
    "              \"GradStudents\",\n",
    "              \"TTFaculty\",\n",
    "              \"Lecturers\",\n",
    "              \"G_TTRatio\",\n",
    "              \"G_TTLRatio\"]\n",
    "\n",
    "print \"UBitName = \" + UBITNAME\n",
    "print \"personNumber = \" + PERSON_NUMBER"
   ]
  },
  {
   "cell_type": "markdown",
   "metadata": {},
   "source": [
    "# Task 1"
   ]
  },
  {
   "cell_type": "code",
   "execution_count": 23,
   "metadata": {
    "collapsed": true
   },
   "outputs": [],
   "source": [
    "def mean(df,column):\n",
    "    return str(numpy.mean(df[column]))\n",
    "\n",
    "def variance(df,column):\n",
    "    return str(numpy.var(df[column]))\n",
    "    \n",
    "def stddev(df,column):\n",
    "    return str(numpy.std(df[column]))"
   ]
  },
  {
   "cell_type": "code",
   "execution_count": 24,
   "metadata": {},
   "outputs": [
    {
     "name": "stdout",
     "output_type": "stream",
     "text": [
      "mu1 = 3.21428571429\n",
      "mu2 = 53.3857142857\n",
      "mu3 = 469178.816327\n",
      "mu4 = 29711.9591837\n",
      "\n",
      "var1 = 0.448163265306\n",
      "var2 = 12.5881632653\n",
      "var3 = 13900134681.7\n",
      "var4 = 30727538.733\n",
      "\n",
      "sigma1 = 0.669449972221\n",
      "sigma2 = 3.54798016698\n",
      "sigma3 = 117898.832402\n",
      "sigma4 = 5543.24261899\n"
     ]
    }
   ],
   "source": [
    "print \"mu1 = \" + mean(df,\"CS_Score\")\n",
    "print \"mu2 = \" + mean(df,\"Research_Overhead\")\n",
    "print \"mu3 = \" + mean(df,\"Base_Pay\")\n",
    "print \"mu4 = \" + mean(df,\"Tuition_Out_State\")\n",
    "print \"\"\n",
    "print \"var1 = \" + variance(df,\"CS_Score\")\n",
    "print \"var2 = \" + variance(df,\"Research_Overhead\")\n",
    "print \"var3 = \" + variance(df,\"Base_Pay\")\n",
    "print \"var4 = \" + variance(df,\"Tuition_Out_State\")\n",
    "print \"\"\n",
    "print \"sigma1 = \" + stddev(df,\"CS_Score\")\n",
    "print \"sigma2 = \" + stddev(df,\"Research_Overhead\")\n",
    "print \"sigma3 = \" + stddev(df,\"Base_Pay\")\n",
    "print \"sigma4 = \" + stddev(df,\"Tuition_Out_State\")"
   ]
  },
  {
   "cell_type": "markdown",
   "metadata": {},
   "source": [
    "# Task 2"
   ]
  },
  {
   "cell_type": "code",
   "execution_count": 25,
   "metadata": {
    "collapsed": true
   },
   "outputs": [],
   "source": [
    "def plotter(df, column1, column2):\n",
    "    return df.plot.scatter(x=column1, y=column2, style='o')\n",
    "\n",
    "def covariance_matrix(df):\n",
    "    array_like_variables = df.as_matrix()[:-1].T\n",
    "    return numpy.cov(array_like_variables)\n",
    "\n",
    "def correlation_matrix(df):\n",
    "    array_like_variables = df.as_matrix()[:-1].T\n",
    "    return numpy.corrcoef(array_like_variables)"
   ]
  },
  {
   "cell_type": "code",
   "execution_count": 26,
   "metadata": {},
   "outputs": [
    {
     "name": "stdout",
     "output_type": "stream",
     "text": [
      "covarianceMat = \n",
      "[[  4.52832447e-01   1.08695479e+00   7.38144176e+03   1.00668404e+03]\n",
      " [  1.08695479e+00   1.30002083e+01   8.17920788e+04   2.64775213e+03]\n",
      " [  7.38144176e+03   8.17920788e+04   1.36798918e+10  -1.49524672e+08]\n",
      " [  1.00668404e+03   2.64775213e+03  -1.49524672e+08   3.16515977e+07]]\n",
      "\n",
      "correlationMat = \n",
      "[[ 1.          0.44798921  0.09378451  0.26590506]\n",
      " [ 0.44798921  1.          0.19395222  0.1305282 ]\n",
      " [ 0.09378451  0.19395222  1.         -0.22723421]\n",
      " [ 0.26590506  0.1305282  -0.22723421  1.        ]]\n"
     ]
    }
   ],
   "source": [
    "print \"covarianceMat = \" \n",
    "print covariance_matrix(df[[\"CS_Score\",\n",
    "              \"Research_Overhead\",\n",
    "              \"Base_Pay\",\n",
    "              \"Tuition_Out_State\",]])\n",
    "print \"\"\n",
    "print \"correlationMat = \" \n",
    "print correlation_matrix(df[[\"CS_Score\",\n",
    "              \"Research_Overhead\",\n",
    "              \"Base_Pay\",\n",
    "              \"Tuition_Out_State\",]])"
   ]
  },
  {
   "cell_type": "code",
   "execution_count": 27,
   "metadata": {},
   "outputs": [
    {
     "data": {
      "text/plain": [
       "<matplotlib.axes._subplots.AxesSubplot at 0xfd545c0>"
      ]
     },
     "execution_count": 27,
     "metadata": {},
     "output_type": "execute_result"
    },
    {
     "data": {
      "image/png": "[encoded data removed]",
      "text/plain": [
       "<matplotlib.figure.Figure at 0xfd54f98>"
      ]
     },
     "metadata": {},
     "output_type": "display_data"
    }
   ],
   "source": [
    "plotter(df,'CS_Score',\"Research_Overhead\")"
   ]
  },
  {
   "cell_type": "code",
   "execution_count": 28,
   "metadata": {
    "scrolled": true
   },
   "outputs": [
    {
     "data": {
      "text/plain": [
       "<matplotlib.axes._subplots.AxesSubplot at 0xfe44d68>"
      ]
     },
     "execution_count": 28,
     "metadata": {},
     "output_type": "execute_result"
    },
    {
     "data": {
      "image/png": "[encoded data removed]",
      "text/plain": [
       "<matplotlib.figure.Figure at 0xfe35e10>"
      ]
     },
     "metadata": {},
     "output_type": "display_data"
    }
   ],
   "source": [
    "plotter(df,'CS_Score',\"Base_Pay\")"
   ]
  },
  {
   "cell_type": "code",
   "execution_count": 29,
   "metadata": {},
   "outputs": [
    {
     "data": {
      "text/plain": [
       "<matplotlib.axes._subplots.AxesSubplot at 0xff2eef0>"
      ]
     },
     "execution_count": 29,
     "metadata": {},
     "output_type": "execute_result"
    },
    {
     "data": {
      "image/png": "[encoded data removed]",
      "text/plain": [
       "<matplotlib.figure.Figure at 0xff432b0>"
      ]
     },
     "metadata": {},
     "output_type": "display_data"
    }
   ],
   "source": [
    "plotter(df,'CS_Score',\"Tuition_Out_State\")"
   ]
  },
  {
   "cell_type": "code",
   "execution_count": 30,
   "metadata": {},
   "outputs": [
    {
     "data": {
      "text/plain": [
       "<matplotlib.axes._subplots.AxesSubplot at 0x100a4a20>"
      ]
     },
     "execution_count": 30,
     "metadata": {},
     "output_type": "execute_result"
    },
    {
     "data": {
      "image/png": "[encoded data removed]",
      "text/plain": [
       "<matplotlib.figure.Figure at 0xf333278>"
      ]
     },
     "metadata": {},
     "output_type": "display_data"
    }
   ],
   "source": [
    "plotter(df,'Base_Pay',\"Research_Overhead\")"
   ]
  },
  {
   "cell_type": "code",
   "execution_count": 31,
   "metadata": {},
   "outputs": [
    {
     "data": {
      "text/plain": [
       "<matplotlib.axes._subplots.AxesSubplot at 0x2077b400>"
      ]
     },
     "execution_count": 31,
     "metadata": {},
     "output_type": "execute_result"
    },
    {
     "data": {
      "image/png": "[encoded data removed]",
      "text/plain": [
       "<matplotlib.figure.Figure at 0x207d2438>"
      ]
     },
     "metadata": {},
     "output_type": "display_data"
    }
   ],
   "source": [
    "plotter(df,'Base_Pay',\"Tuition_Out_State\")"
   ]
  },
  {
   "cell_type": "code",
   "execution_count": 32,
   "metadata": {},
   "outputs": [
    {
     "data": {
      "text/plain": [
       "<matplotlib.axes._subplots.AxesSubplot at 0x207de5c0>"
      ]
     },
     "execution_count": 32,
     "metadata": {},
     "output_type": "execute_result"
    },
    {
     "data": {
      "image/png": "[encoded data removed]",
      "text/plain": [
       "<matplotlib.figure.Figure at 0x209f4b00>"
      ]
     },
     "metadata": {},
     "output_type": "display_data"
    }
   ],
   "source": [
    "plotter(df,'Tuition_Out_State',\"Research_Overhead\")"
   ]
  },
  {
   "cell_type": "markdown",
   "metadata": {
    "collapsed": true
   },
   "source": [
    "# Task 3"
   ]
  },
  {
   "cell_type": "code",
   "execution_count": 33,
   "metadata": {},
   "outputs": [
    {
     "name": "stdout",
     "output_type": "stream",
     "text": [
      "[  1.48671951e-06   1.01408521e-05   1.59837411e-05   3.85351967e-05\n",
      "   3.85351967e-05   5.89430678e-05   8.92616572e-05   8.92616572e-05\n",
      "   1.33830226e-04   1.33830226e-04   4.24780271e-04   6.11901930e-04\n",
      "   6.11901930e-04   1.23221917e-03   1.23221917e-03   1.23221917e-03\n",
      "   1.23221917e-03   1.72256894e-03   1.72256894e-03   1.72256894e-03\n",
      "   1.72256894e-03   3.26681906e-03   3.26681906e-03   3.26681906e-03\n",
      "   3.26681906e-03   3.26681906e-03   3.26681906e-03   4.43184841e-03\n",
      "   4.43184841e-03   4.43184841e-03   5.95253242e-03   5.95253242e-03\n",
      "   7.91545158e-03   7.91545158e-03   7.91545158e-03   1.04209348e-02\n",
      "   1.35829692e-02   1.35829692e-02   1.35829692e-02   1.35829692e-02\n",
      "   1.75283005e-02   1.75283005e-02   2.23945303e-02   2.23945303e-02\n",
      "   2.23945303e-02   2.23945303e-02   2.23945303e-02   2.23945303e-02\n",
      "   2.23945303e-02]\n"
     ]
    }
   ],
   "source": [
    "logLikelihood = sst.norm(0,1).pdf(list(df[\"CS_Score\"]))\n",
    "print logLikelihood"
   ]
  },
  {
   "cell_type": "code",
   "execution_count": null,
   "metadata": {},
   "outputs": [],
   "source": []
  },
  {
   "cell_type": "code",
   "execution_count": null,
   "metadata": {
    "collapsed": true
   },
   "outputs": [],
   "source": []
  },
  {
   "cell_type": "code",
   "execution_count": null,
   "metadata": {
    "collapsed": true
   },
   "outputs": [],
   "source": []
  },
  {
   "cell_type": "code",
   "execution_count": null,
   "metadata": {
    "collapsed": true
   },
   "outputs": [],
   "source": []
  },
  {
   "cell_type": "code",
   "execution_count": null,
   "metadata": {
    "collapsed": true
   },
   "outputs": [],
   "source": []
  },
  {
   "cell_type": "code",
   "execution_count": null,
   "metadata": {
    "collapsed": true
   },
   "outputs": [],
   "source": []
  }
 ],
 "metadata": {
  "kernelspec": {
   "display_name": "Python 2",
   "language": "python",
   "name": "python2"
  },
  "language_info": {
   "codemirror_mode": {
    "name": "ipython",
    "version": 2
   },
   "file_extension": ".py",
   "mimetype": "text/x-python",
   "name": "python",
   "nbconvert_exporter": "python",
   "pygments_lexer": "ipython2",
   "version": "2.7.13"
  }
 },
 "nbformat": 4,
 "nbformat_minor": 2
}

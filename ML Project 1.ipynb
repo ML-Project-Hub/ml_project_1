{
 "cells": [
  {
   "cell_type": "code",
   "execution_count": 1,
   "metadata": {},
   "outputs": [
    {
     "ename": "ImportError",
     "evalue": "cannot import name NUMPY_MKL",
     "output_type": "error",
     "traceback": [
      "\u001b[1;31m---------------------------------------------------------------------------\u001b[0m",
      "\u001b[1;31mImportError\u001b[0m                               Traceback (most recent call last)",
      "\u001b[1;32m<ipython-input-1-209f19c4b5fb>\u001b[0m in \u001b[0;36m<module>\u001b[1;34m()\u001b[0m\n\u001b[0;32m      1\u001b[0m \u001b[1;32mimport\u001b[0m \u001b[0mpandas\u001b[0m \u001b[1;32mas\u001b[0m \u001b[0mpd\u001b[0m\u001b[1;33m\u001b[0m\u001b[0m\n\u001b[1;32m----> 2\u001b[1;33m \u001b[1;32mimport\u001b[0m \u001b[0mscipy\u001b[0m\u001b[1;33m\u001b[0m\u001b[0m\n\u001b[0m\u001b[0;32m      3\u001b[0m \u001b[0mget_ipython\u001b[0m\u001b[1;33m(\u001b[0m\u001b[1;33m)\u001b[0m\u001b[1;33m.\u001b[0m\u001b[0mmagic\u001b[0m\u001b[1;33m(\u001b[0m\u001b[1;34mu'matplotlib inline'\u001b[0m\u001b[1;33m)\u001b[0m\u001b[1;33m\u001b[0m\u001b[0m\n\u001b[0;32m      4\u001b[0m \u001b[1;33m\u001b[0m\u001b[0m\n\u001b[0;32m      5\u001b[0m \u001b[1;31m#\"Rank\",\"Ratings\",\"ResearchOverhead\",\"BasePay\",\"TuitionOutState\",\"GradStudents\",\"TTFaculty\",\"Lecturers\",\"G_TTRatio\",\"G_TTLRatio\"\u001b[0m\u001b[1;33m\u001b[0m\u001b[1;33m\u001b[0m\u001b[0m\n",
      "\u001b[1;32mc:\\python27\\lib\\site-packages\\scipy\\__init__.py\u001b[0m in \u001b[0;36m<module>\u001b[1;34m()\u001b[0m\n\u001b[0;32m     59\u001b[0m \u001b[0m__all__\u001b[0m \u001b[1;33m=\u001b[0m \u001b[1;33m[\u001b[0m\u001b[1;34m'test'\u001b[0m\u001b[1;33m]\u001b[0m\u001b[1;33m\u001b[0m\u001b[0m\n\u001b[0;32m     60\u001b[0m \u001b[1;33m\u001b[0m\u001b[0m\n\u001b[1;32m---> 61\u001b[1;33m \u001b[1;32mfrom\u001b[0m \u001b[0mnumpy\u001b[0m\u001b[1;33m.\u001b[0m\u001b[0m_distributor_init\u001b[0m \u001b[1;32mimport\u001b[0m \u001b[0mNUMPY_MKL\u001b[0m  \u001b[1;31m# requires numpy+mkl\u001b[0m\u001b[1;33m\u001b[0m\u001b[0m\n\u001b[0m\u001b[0;32m     62\u001b[0m \u001b[1;33m\u001b[0m\u001b[0m\n\u001b[0;32m     63\u001b[0m \u001b[1;32mfrom\u001b[0m \u001b[0mnumpy\u001b[0m \u001b[1;32mimport\u001b[0m \u001b[0mshow_config\u001b[0m \u001b[1;32mas\u001b[0m \u001b[0mshow_numpy_config\u001b[0m\u001b[1;33m\u001b[0m\u001b[0m\n",
      "\u001b[1;31mImportError\u001b[0m: cannot import name NUMPY_MKL"
     ]
    }
   ],
   "source": [
    "import pandas as pd\n",
    "import scipy\n",
    "%matplotlib inline\n",
    "\n",
    "#\"Rank\",\"Ratings\",\"ResearchOverhead\",\"BasePay\",\"TuitionOutState\",\"GradStudents\",\"TTFaculty\",\"Lecturers\",\"G_TTRatio\",\"G_TTLRatio\"\n",
    "def plotter(df,column1,column2):\n",
    "    return df.plot.scatter(x=column1, y=column2, style='o')"
   ]
  },
  {
   "cell_type": "code",
   "execution_count": null,
   "metadata": {
    "collapsed": true
   },
   "outputs": [],
   "source": [
    "EXCEL_LOCATION = \"University data.xlsx\"\n",
    "df = pd.read_excel(EXCEL_LOCATION)\n",
    "df.columns = [\"Rank\",\"Name\",\"Ratings\",\"ResearchOverhead\",\"BasePay\",\"TuitionOutState\",\"GradStudents\",\"TTFaculty\",\"Lecturers\",\"G_TTRatio\",\"G_TTLRatio\"]"
   ]
  },
  {
   "cell_type": "code",
   "execution_count": 96,
   "metadata": {},
   "outputs": [
    {
     "data": {
      "text/plain": [
       "<matplotlib.axes._subplots.AxesSubplot at 0xbd2f080>"
      ]
     },
     "execution_count": 96,
     "metadata": {},
     "output_type": "execute_result"
    },
    {
     "data": {
      "image/png": "[encoded data removed]",
      "text/plain": [
       "<matplotlib.figure.Figure at 0xc589860>"
      ]
     },
     "metadata": {},
     "output_type": "display_data"
    }
   ],
   "source": [
    "plotter(df[['Ratings',\"ResearchOverhead\"]],\"Ratings\",\"ResearchOverhead\")"
   ]
  },
  {
   "cell_type": "code",
   "execution_count": 97,
   "metadata": {
    "collapsed": true
   },
   "outputs": [],
   "source": [
    "#Rank\n",
    "#Ratings\n",
    "#ResearchOverhead\n",
    "#BasePay\n",
    "#TuitionOutState\n",
    "#GradStudents\n",
    "#TTFaculty\n",
    "#Lecturers\n",
    "#G_TTRatio\n",
    "#G_TTLRatio"
   ]
  },
  {
   "cell_type": "code",
   "execution_count": 81,
   "metadata": {
    "collapsed": true,
    "scrolled": true
   },
   "outputs": [],
   "source": [
    "import numpy"
   ]
  },
  {
   "cell_type": "code",
   "execution_count": 82,
   "metadata": {
    "collapsed": true
   },
   "outputs": [],
   "source": [
    "#CS Score (USNews)\n",
    "sigma1 = numpy.mean(df[\"Ratings\"])\n",
    "#Research Overhead\n",
    "sigma2 = numpy.mean(df[\"ResearchOverhead\"])\n",
    "#Admin Base Pay\n",
    "sigma2 = numpy.mean(df[\"BasePay\"])\n",
    "#Tuition Out State\n",
    "sigma2 = numpy.mean(df[\"TuitionOutState\"])"
   ]
  },
  {
   "cell_type": "code",
   "execution_count": 83,
   "metadata": {
    "collapsed": true
   },
   "outputs": [],
   "source": [
    "#CS Score (USNews)\n",
    "var1 = numpy.var(df[\"Ratings\"])\n",
    "#Research Overhead\n",
    "var2 = numpy.var(df[\"ResearchOverhead\"])\n",
    "#Admin Base Pay\n",
    "var3 = numpy.var(df[\"BasePay\"])\n",
    "#Tuition Out State\n",
    "var4 = numpy.var(df[\"TuitionOutState\"])"
   ]
  },
  {
   "cell_type": "code",
   "execution_count": 84,
   "metadata": {
    "collapsed": true
   },
   "outputs": [],
   "source": [
    "#CS Score (USNews)\n",
    "std1 = numpy.std(df[\"Ratings\"])\n",
    "#Research Overhead\n",
    "std2 = numpy.std(df[\"ResearchOverhead\"])\n",
    "#Admin Base Pay\n",
    "std3 = numpy.std(df[\"BasePay\"])\n",
    "#Tuition Out State\n",
    "std4 = numpy.std(df[\"TuitionOutState\"])"
   ]
  },
  {
   "cell_type": "code",
   "execution_count": 87,
   "metadata": {
    "collapsed": true
   },
   "outputs": [],
   "source": [
    "?numpy.cov()"
   ]
  },
  {
   "cell_type": "code",
   "execution_count": 90,
   "metadata": {},
   "outputs": [
    {
     "data": {
      "text/plain": [
       "array([[ 1352.  ,  1404.  ,  1300.  , ...,  1315.6 ,  1263.6 ,      nan],\n",
       "       [ 1404.  ,  1458.  ,  1350.  , ...,  1366.2 ,  1312.2 ,      nan],\n",
       "       [ 1300.  ,  1350.  ,  1250.  , ...,  1265.  ,  1215.  ,      nan],\n",
       "       ..., \n",
       "       [ 1315.6 ,  1366.2 ,  1265.  , ...,  1280.18,  1229.58,      nan],\n",
       "       [ 1263.6 ,  1312.2 ,  1215.  , ...,  1229.58,  1180.98,      nan],\n",
       "       [     nan,      nan,      nan, ...,      nan,      nan,      nan]])"
      ]
     },
     "execution_count": 90,
     "metadata": {},
     "output_type": "execute_result"
    }
   ],
   "source": [
    "numpy.cov(df[[\"Ratings\",\"ResearchOverhead\"]].as_matrix())\n",
    "#df[[\"Ratings\",\"ResearchOverhead\"]].as_matrix()"
   ]
  },
  {
   "cell_type": "code",
   "execution_count": null,
   "metadata": {
    "collapsed": true
   },
   "outputs": [],
   "source": []
  }
 ],
 "metadata": {
  "kernelspec": {
   "display_name": "Python 2",
   "language": "python",
   "name": "python2"
  },
  "language_info": {
   "codemirror_mode": {
    "name": "ipython",
    "version": 2
   },
   "file_extension": ".py",
   "mimetype": "text/x-python",
   "name": "python",
   "nbconvert_exporter": "python",
   "pygments_lexer": "ipython2",
   "version": "2.7.13"
  }
 },
 "nbformat": 4,
 "nbformat_minor": 2
}
